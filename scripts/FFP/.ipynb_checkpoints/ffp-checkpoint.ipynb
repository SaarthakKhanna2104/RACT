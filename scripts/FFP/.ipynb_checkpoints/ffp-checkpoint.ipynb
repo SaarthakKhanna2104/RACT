{
 "cells": [
  {
   "cell_type": "code",
   "execution_count": 1,
   "metadata": {
    "collapsed": true
   },
   "outputs": [],
   "source": [
    "import pandas as pd\n",
    "import numpy as np\n",
    "\n",
    "df = pd.read_csv('../../Data/data_after_predicting_anaemia_values.csv',sep=',')\n"
   ]
  },
  {
   "cell_type": "code",
   "execution_count": 2,
   "metadata": {
    "collapsed": false
   },
   "outputs": [
    {
     "data": {
      "text/html": [
       "<div>\n",
       "<table border=\"1\" class=\"dataframe\">\n",
       "  <thead>\n",
       "    <tr style=\"text-align: right;\">\n",
       "      <th></th>\n",
       "      <th>Unnamed: 0</th>\n",
       "      <th>Masked FIN</th>\n",
       "      <th>age</th>\n",
       "      <th>Sequence No.</th>\n",
       "      <th>SURG_PROCEDURE</th>\n",
       "      <th>Duration of Surgery (hh:mm).1</th>\n",
       "      <th>SURGICAL_SPECIALTY</th>\n",
       "      <th>Surgeon Hash Name</th>\n",
       "      <th>PATIENT_TYPE</th>\n",
       "      <th>SN - BM - Pre-Op INR</th>\n",
       "      <th>SN - BM - Pre-Op Platelet Count</th>\n",
       "      <th>SN - BM - PRBC Ordered</th>\n",
       "      <th>Allogeneic Blood Transfusion</th>\n",
       "      <th>SN - BM - Red Blood Cells</th>\n",
       "      <th>SN - BM - Fresh Frozen Plasma</th>\n",
       "      <th>SN - BM - Platelets</th>\n",
       "      <th>SN - BM - Cryoprecipitate</th>\n",
       "      <th>ResultsBeforeSurgery</th>\n",
       "      <th>ResultAfterSurgery</th>\n",
       "      <th>EBL</th>\n",
       "    </tr>\n",
       "  </thead>\n",
       "  <tbody>\n",
       "    <tr>\n",
       "      <th>0</th>\n",
       "      <td>0</td>\n",
       "      <td>A10454</td>\n",
       "      <td>36</td>\n",
       "      <td>11978</td>\n",
       "      <td>ACHILLES TENDON REPAIR</td>\n",
       "      <td>1:04</td>\n",
       "      <td>ORTHOPAEDIC SURGERY</td>\n",
       "      <td>DR. 281</td>\n",
       "      <td>DAY SURGERY</td>\n",
       "      <td>0.000</td>\n",
       "      <td>0.00</td>\n",
       "      <td>0.0</td>\n",
       "      <td>NO</td>\n",
       "      <td>0.0</td>\n",
       "      <td>0.0</td>\n",
       "      <td>0.0</td>\n",
       "      <td>0.0</td>\n",
       "      <td>15.6063</td>\n",
       "      <td>14.166127</td>\n",
       "      <td>0</td>\n",
       "    </tr>\n",
       "    <tr>\n",
       "      <th>1</th>\n",
       "      <td>1</td>\n",
       "      <td>A492</td>\n",
       "      <td>48</td>\n",
       "      <td>184</td>\n",
       "      <td>ANAL CONDYLOMA EXCISION</td>\n",
       "      <td>0:23</td>\n",
       "      <td>COLORECTAL SURGERY</td>\n",
       "      <td>DR. 236</td>\n",
       "      <td>OBSERVATION</td>\n",
       "      <td>0.000</td>\n",
       "      <td>0.00</td>\n",
       "      <td>0.0</td>\n",
       "      <td>NO</td>\n",
       "      <td>0.0</td>\n",
       "      <td>0.0</td>\n",
       "      <td>0.0</td>\n",
       "      <td>0.0</td>\n",
       "      <td>14.5018</td>\n",
       "      <td>13.498745</td>\n",
       "      <td>0</td>\n",
       "    </tr>\n",
       "    <tr>\n",
       "      <th>2</th>\n",
       "      <td>2</td>\n",
       "      <td>A24199</td>\n",
       "      <td>25</td>\n",
       "      <td>28931</td>\n",
       "      <td>ANAL FISTULOTOMY WITH SETON</td>\n",
       "      <td>0:20</td>\n",
       "      <td>COLORECTAL SURGERY</td>\n",
       "      <td>DR. 25</td>\n",
       "      <td>DAY SURGERY</td>\n",
       "      <td>0.904</td>\n",
       "      <td>288.09</td>\n",
       "      <td>0.0</td>\n",
       "      <td>NO</td>\n",
       "      <td>0.0</td>\n",
       "      <td>0.0</td>\n",
       "      <td>0.0</td>\n",
       "      <td>0.0</td>\n",
       "      <td>17.0057</td>\n",
       "      <td>15.418479</td>\n",
       "      <td>0</td>\n",
       "    </tr>\n",
       "    <tr>\n",
       "      <th>3</th>\n",
       "      <td>3</td>\n",
       "      <td>A13935</td>\n",
       "      <td>29</td>\n",
       "      <td>16255</td>\n",
       "      <td>ANAL FISTULOTOMY WITH SETON</td>\n",
       "      <td>0:19</td>\n",
       "      <td>COLORECTAL SURGERY</td>\n",
       "      <td>DR. 236</td>\n",
       "      <td>DAY SURGERY</td>\n",
       "      <td>0.000</td>\n",
       "      <td>0.00</td>\n",
       "      <td>0.0</td>\n",
       "      <td>NO</td>\n",
       "      <td>0.0</td>\n",
       "      <td>0.0</td>\n",
       "      <td>0.0</td>\n",
       "      <td>0.0</td>\n",
       "      <td>13.3047</td>\n",
       "      <td>12.610660</td>\n",
       "      <td>0</td>\n",
       "    </tr>\n",
       "    <tr>\n",
       "      <th>4</th>\n",
       "      <td>4</td>\n",
       "      <td>A7660</td>\n",
       "      <td>56</td>\n",
       "      <td>8755</td>\n",
       "      <td>ANAL FISTULOTOMY WITH SETON</td>\n",
       "      <td>1:54</td>\n",
       "      <td>COLORECTAL SURGERY</td>\n",
       "      <td>DR. 25</td>\n",
       "      <td>INPATIENT</td>\n",
       "      <td>0.000</td>\n",
       "      <td>0.00</td>\n",
       "      <td>0.0</td>\n",
       "      <td>NO</td>\n",
       "      <td>0.0</td>\n",
       "      <td>0.0</td>\n",
       "      <td>0.0</td>\n",
       "      <td>0.0</td>\n",
       "      <td>11.6062</td>\n",
       "      <td>10.206200</td>\n",
       "      <td>0</td>\n",
       "    </tr>\n",
       "  </tbody>\n",
       "</table>\n",
       "</div>"
      ],
      "text/plain": [
       "   Unnamed: 0 Masked FIN  age  Sequence No.               SURG_PROCEDURE  \\\n",
       "0           0     A10454   36         11978       ACHILLES TENDON REPAIR   \n",
       "1           1       A492   48           184      ANAL CONDYLOMA EXCISION   \n",
       "2           2     A24199   25         28931  ANAL FISTULOTOMY WITH SETON   \n",
       "3           3     A13935   29         16255  ANAL FISTULOTOMY WITH SETON   \n",
       "4           4      A7660   56          8755  ANAL FISTULOTOMY WITH SETON   \n",
       "\n",
       "  Duration of Surgery (hh:mm).1   SURGICAL_SPECIALTY Surgeon Hash Name  \\\n",
       "0                          1:04  ORTHOPAEDIC SURGERY           DR. 281   \n",
       "1                          0:23   COLORECTAL SURGERY           DR. 236   \n",
       "2                          0:20   COLORECTAL SURGERY            DR. 25   \n",
       "3                          0:19   COLORECTAL SURGERY           DR. 236   \n",
       "4                          1:54   COLORECTAL SURGERY            DR. 25   \n",
       "\n",
       "  PATIENT_TYPE  SN - BM - Pre-Op INR  SN - BM - Pre-Op Platelet Count  \\\n",
       "0  DAY SURGERY                 0.000                             0.00   \n",
       "1  OBSERVATION                 0.000                             0.00   \n",
       "2  DAY SURGERY                 0.904                           288.09   \n",
       "3  DAY SURGERY                 0.000                             0.00   \n",
       "4    INPATIENT                 0.000                             0.00   \n",
       "\n",
       "   SN - BM - PRBC Ordered Allogeneic Blood Transfusion  \\\n",
       "0                     0.0                           NO   \n",
       "1                     0.0                           NO   \n",
       "2                     0.0                           NO   \n",
       "3                     0.0                           NO   \n",
       "4                     0.0                           NO   \n",
       "\n",
       "   SN - BM - Red Blood Cells  SN - BM - Fresh Frozen Plasma  \\\n",
       "0                        0.0                            0.0   \n",
       "1                        0.0                            0.0   \n",
       "2                        0.0                            0.0   \n",
       "3                        0.0                            0.0   \n",
       "4                        0.0                            0.0   \n",
       "\n",
       "   SN - BM - Platelets  SN - BM - Cryoprecipitate  ResultsBeforeSurgery  \\\n",
       "0                  0.0                        0.0               15.6063   \n",
       "1                  0.0                        0.0               14.5018   \n",
       "2                  0.0                        0.0               17.0057   \n",
       "3                  0.0                        0.0               13.3047   \n",
       "4                  0.0                        0.0               11.6062   \n",
       "\n",
       "   ResultAfterSurgery EBL  \n",
       "0           14.166127   0  \n",
       "1           13.498745   0  \n",
       "2           15.418479   0  \n",
       "3           12.610660   0  \n",
       "4           10.206200   0  "
      ]
     },
     "execution_count": 2,
     "metadata": {},
     "output_type": "execute_result"
    }
   ],
   "source": [
    "df.head()"
   ]
  },
  {
   "cell_type": "code",
   "execution_count": 3,
   "metadata": {
    "collapsed": false
   },
   "outputs": [
    {
     "data": {
      "text/plain": [
       "count     26860\n",
       "unique        2\n",
       "top          NO\n",
       "freq      23581\n",
       "Name: Allogeneic Blood Transfusion, dtype: object"
      ]
     },
     "execution_count": 3,
     "metadata": {},
     "output_type": "execute_result"
    }
   ],
   "source": [
    "df['Allogeneic Blood Transfusion'].describe()"
   ]
  },
  {
   "cell_type": "code",
   "execution_count": 6,
   "metadata": {
    "collapsed": false
   },
   "outputs": [
    {
     "data": {
      "text/plain": [
       "(0, 20)"
      ]
     },
     "execution_count": 6,
     "metadata": {},
     "output_type": "execute_result"
    }
   ],
   "source": [
    "df[]"
   ]
  },
  {
   "cell_type": "code",
   "execution_count": 48,
   "metadata": {
    "collapsed": false
   },
   "outputs": [
    {
     "data": {
      "text/plain": [
       "0    0\n",
       "1    0\n",
       "2    0\n",
       "3    0\n",
       "4    0\n",
       "Name: Allogeneic Blood Transfusion, dtype: int8"
      ]
     },
     "execution_count": 48,
     "metadata": {},
     "output_type": "execute_result"
    }
   ],
   "source": [
    "y.head()"
   ]
  },
  {
   "cell_type": "code",
   "execution_count": 61,
   "metadata": {
    "collapsed": false
   },
   "outputs": [
    {
     "data": {
      "text/html": [
       "<div>\n",
       "<table border=\"1\" class=\"dataframe\">\n",
       "  <thead>\n",
       "    <tr style=\"text-align: right;\">\n",
       "      <th></th>\n",
       "      <th>age</th>\n",
       "      <th>SN - BM - Pre-Op INR</th>\n",
       "      <th>SN - BM - Pre-Op Platelet Count</th>\n",
       "      <th>SN - BM - Red Blood Cells</th>\n",
       "      <th>SN - BM - Fresh Frozen Plasma</th>\n",
       "      <th>SN - BM - Platelets</th>\n",
       "      <th>SN - BM - Cryoprecipitate</th>\n",
       "      <th>ResultsBeforeSurgery</th>\n",
       "      <th>SURG_PROCEDURE_ABDOMINAL PERINEAL RESECTION</th>\n",
       "      <th>SURG_PROCEDURE_ABDOMINAL PERINEAL RESECTION LAPAROSCOPI</th>\n",
       "      <th>...</th>\n",
       "      <th>Surgeon Hash Name_DR. 93</th>\n",
       "      <th>Surgeon Hash Name_DR. 94</th>\n",
       "      <th>Surgeon Hash Name_DR. 96</th>\n",
       "      <th>PATIENT_TYPE_EXTENDED RECOVERY</th>\n",
       "      <th>PATIENT_TYPE_INPATIENT</th>\n",
       "      <th>PATIENT_TYPE_NON PATIENT</th>\n",
       "      <th>PATIENT_TYPE_OBSERVATION</th>\n",
       "      <th>PATIENT_TYPE_OUTPATIENT</th>\n",
       "      <th>PATIENT_TYPE_OUTPATIENT IN A BED</th>\n",
       "      <th>PATIENT_TYPE_PREADMIT</th>\n",
       "    </tr>\n",
       "  </thead>\n",
       "  <tbody>\n",
       "    <tr>\n",
       "      <th>0</th>\n",
       "      <td>36</td>\n",
       "      <td>0.000</td>\n",
       "      <td>0.00</td>\n",
       "      <td>0.0</td>\n",
       "      <td>0.0</td>\n",
       "      <td>0.0</td>\n",
       "      <td>0.0</td>\n",
       "      <td>15.6063</td>\n",
       "      <td>0.0</td>\n",
       "      <td>0.0</td>\n",
       "      <td>...</td>\n",
       "      <td>0.0</td>\n",
       "      <td>0.0</td>\n",
       "      <td>0.0</td>\n",
       "      <td>0.0</td>\n",
       "      <td>0.0</td>\n",
       "      <td>0.0</td>\n",
       "      <td>0.0</td>\n",
       "      <td>0.0</td>\n",
       "      <td>0.0</td>\n",
       "      <td>0.0</td>\n",
       "    </tr>\n",
       "    <tr>\n",
       "      <th>1</th>\n",
       "      <td>48</td>\n",
       "      <td>0.000</td>\n",
       "      <td>0.00</td>\n",
       "      <td>0.0</td>\n",
       "      <td>0.0</td>\n",
       "      <td>0.0</td>\n",
       "      <td>0.0</td>\n",
       "      <td>14.5018</td>\n",
       "      <td>0.0</td>\n",
       "      <td>0.0</td>\n",
       "      <td>...</td>\n",
       "      <td>0.0</td>\n",
       "      <td>0.0</td>\n",
       "      <td>0.0</td>\n",
       "      <td>0.0</td>\n",
       "      <td>0.0</td>\n",
       "      <td>0.0</td>\n",
       "      <td>1.0</td>\n",
       "      <td>0.0</td>\n",
       "      <td>0.0</td>\n",
       "      <td>0.0</td>\n",
       "    </tr>\n",
       "    <tr>\n",
       "      <th>2</th>\n",
       "      <td>25</td>\n",
       "      <td>0.904</td>\n",
       "      <td>288.09</td>\n",
       "      <td>0.0</td>\n",
       "      <td>0.0</td>\n",
       "      <td>0.0</td>\n",
       "      <td>0.0</td>\n",
       "      <td>17.0057</td>\n",
       "      <td>0.0</td>\n",
       "      <td>0.0</td>\n",
       "      <td>...</td>\n",
       "      <td>0.0</td>\n",
       "      <td>0.0</td>\n",
       "      <td>0.0</td>\n",
       "      <td>0.0</td>\n",
       "      <td>0.0</td>\n",
       "      <td>0.0</td>\n",
       "      <td>0.0</td>\n",
       "      <td>0.0</td>\n",
       "      <td>0.0</td>\n",
       "      <td>0.0</td>\n",
       "    </tr>\n",
       "    <tr>\n",
       "      <th>3</th>\n",
       "      <td>29</td>\n",
       "      <td>0.000</td>\n",
       "      <td>0.00</td>\n",
       "      <td>0.0</td>\n",
       "      <td>0.0</td>\n",
       "      <td>0.0</td>\n",
       "      <td>0.0</td>\n",
       "      <td>13.3047</td>\n",
       "      <td>0.0</td>\n",
       "      <td>0.0</td>\n",
       "      <td>...</td>\n",
       "      <td>0.0</td>\n",
       "      <td>0.0</td>\n",
       "      <td>0.0</td>\n",
       "      <td>0.0</td>\n",
       "      <td>0.0</td>\n",
       "      <td>0.0</td>\n",
       "      <td>0.0</td>\n",
       "      <td>0.0</td>\n",
       "      <td>0.0</td>\n",
       "      <td>0.0</td>\n",
       "    </tr>\n",
       "    <tr>\n",
       "      <th>4</th>\n",
       "      <td>56</td>\n",
       "      <td>0.000</td>\n",
       "      <td>0.00</td>\n",
       "      <td>0.0</td>\n",
       "      <td>0.0</td>\n",
       "      <td>0.0</td>\n",
       "      <td>0.0</td>\n",
       "      <td>11.6062</td>\n",
       "      <td>0.0</td>\n",
       "      <td>0.0</td>\n",
       "      <td>...</td>\n",
       "      <td>0.0</td>\n",
       "      <td>0.0</td>\n",
       "      <td>0.0</td>\n",
       "      <td>0.0</td>\n",
       "      <td>1.0</td>\n",
       "      <td>0.0</td>\n",
       "      <td>0.0</td>\n",
       "      <td>0.0</td>\n",
       "      <td>0.0</td>\n",
       "      <td>0.0</td>\n",
       "    </tr>\n",
       "  </tbody>\n",
       "</table>\n",
       "<p>5 rows × 1030 columns</p>\n",
       "</div>"
      ],
      "text/plain": [
       "   age  SN - BM - Pre-Op INR  SN - BM - Pre-Op Platelet Count  \\\n",
       "0   36                 0.000                             0.00   \n",
       "1   48                 0.000                             0.00   \n",
       "2   25                 0.904                           288.09   \n",
       "3   29                 0.000                             0.00   \n",
       "4   56                 0.000                             0.00   \n",
       "\n",
       "   SN - BM - Red Blood Cells  SN - BM - Fresh Frozen Plasma  \\\n",
       "0                        0.0                            0.0   \n",
       "1                        0.0                            0.0   \n",
       "2                        0.0                            0.0   \n",
       "3                        0.0                            0.0   \n",
       "4                        0.0                            0.0   \n",
       "\n",
       "   SN - BM - Platelets  SN - BM - Cryoprecipitate  ResultsBeforeSurgery  \\\n",
       "0                  0.0                        0.0               15.6063   \n",
       "1                  0.0                        0.0               14.5018   \n",
       "2                  0.0                        0.0               17.0057   \n",
       "3                  0.0                        0.0               13.3047   \n",
       "4                  0.0                        0.0               11.6062   \n",
       "\n",
       "   SURG_PROCEDURE_ABDOMINAL PERINEAL RESECTION  \\\n",
       "0                                          0.0   \n",
       "1                                          0.0   \n",
       "2                                          0.0   \n",
       "3                                          0.0   \n",
       "4                                          0.0   \n",
       "\n",
       "   SURG_PROCEDURE_ABDOMINAL PERINEAL RESECTION LAPAROSCOPI  \\\n",
       "0                                                0.0         \n",
       "1                                                0.0         \n",
       "2                                                0.0         \n",
       "3                                                0.0         \n",
       "4                                                0.0         \n",
       "\n",
       "           ...            Surgeon Hash Name_DR. 93  Surgeon Hash Name_DR. 94  \\\n",
       "0          ...                                 0.0                       0.0   \n",
       "1          ...                                 0.0                       0.0   \n",
       "2          ...                                 0.0                       0.0   \n",
       "3          ...                                 0.0                       0.0   \n",
       "4          ...                                 0.0                       0.0   \n",
       "\n",
       "   Surgeon Hash Name_DR. 96  PATIENT_TYPE_EXTENDED RECOVERY  \\\n",
       "0                       0.0                             0.0   \n",
       "1                       0.0                             0.0   \n",
       "2                       0.0                             0.0   \n",
       "3                       0.0                             0.0   \n",
       "4                       0.0                             0.0   \n",
       "\n",
       "   PATIENT_TYPE_INPATIENT  PATIENT_TYPE_NON PATIENT  PATIENT_TYPE_OBSERVATION  \\\n",
       "0                     0.0                       0.0                       0.0   \n",
       "1                     0.0                       0.0                       1.0   \n",
       "2                     0.0                       0.0                       0.0   \n",
       "3                     0.0                       0.0                       0.0   \n",
       "4                     1.0                       0.0                       0.0   \n",
       "\n",
       "   PATIENT_TYPE_OUTPATIENT  PATIENT_TYPE_OUTPATIENT IN A BED  \\\n",
       "0                      0.0                               0.0   \n",
       "1                      0.0                               0.0   \n",
       "2                      0.0                               0.0   \n",
       "3                      0.0                               0.0   \n",
       "4                      0.0                               0.0   \n",
       "\n",
       "   PATIENT_TYPE_PREADMIT  \n",
       "0                    0.0  \n",
       "1                    0.0  \n",
       "2                    0.0  \n",
       "3                    0.0  \n",
       "4                    0.0  \n",
       "\n",
       "[5 rows x 1030 columns]"
      ]
     },
     "execution_count": 61,
     "metadata": {},
     "output_type": "execute_result"
    }
   ],
   "source": [
    "X.head()"
   ]
  },
  {
   "cell_type": "code",
   "execution_count": 49,
   "metadata": {
    "collapsed": true
   },
   "outputs": [],
   "source": [
    "from sklearn.ensemble import RandomForestClassifier\n",
    "from sklearn.model_selection import GridSearchCV\n",
    "clf = RandomForestClassifier(n_estimators=50)"
   ]
  },
  {
   "cell_type": "code",
   "execution_count": 50,
   "metadata": {
    "collapsed": false
   },
   "outputs": [
    {
     "data": {
      "text/plain": [
       "(23581,)"
      ]
     },
     "execution_count": 50,
     "metadata": {},
     "output_type": "execute_result"
    }
   ],
   "source": [
    "y[y == 0].shape"
   ]
  },
  {
   "cell_type": "code",
   "execution_count": 51,
   "metadata": {
    "collapsed": false
   },
   "outputs": [
    {
     "data": {
      "text/plain": [
       "12.207743857036485"
      ]
     },
     "execution_count": 51,
     "metadata": {},
     "output_type": "execute_result"
    }
   ],
   "source": [
    "y[y == 1].shape[0]*100/float(y.shape[0])"
   ]
  },
  {
   "cell_type": "code",
   "execution_count": 52,
   "metadata": {
    "collapsed": true
   },
   "outputs": [],
   "source": [
    "from sklearn.model_selection import train_test_split\n",
    "X_train,X_test,y_train,y_test = train_test_split(X,y,test_size=0.33,random_state=42)"
   ]
  },
  {
   "cell_type": "code",
   "execution_count": 22,
   "metadata": {
    "collapsed": false
   },
   "outputs": [],
   "source": [
    "clf.fit(X_train,y_train)"
   ]
  },
  {
   "cell_type": "code",
   "execution_count": 24,
   "metadata": {
    "collapsed": true
   },
   "outputs": [],
   "source": [
    "y_pred = clf.predict(X_test)"
   ]
  },
  {
   "cell_type": "code",
   "execution_count": 26,
   "metadata": {
    "collapsed": true
   },
   "outputs": [],
   "source": [
    "from sklearn.metrics import precision_recall_fscore_support"
   ]
  },
  {
   "cell_type": "code",
   "execution_count": 27,
   "metadata": {
    "collapsed": false
   },
   "outputs": [
    {
     "data": {
      "text/plain": [
       "(array([ 0.9992266,  1.       ]),\n",
       " array([ 1.        ,  0.99460432]),\n",
       " array([ 0.99961315,  0.99729486]),\n",
       " array([7752, 1112]))"
      ]
     },
     "execution_count": 27,
     "metadata": {},
     "output_type": "execute_result"
    }
   ],
   "source": [
    "precision_recall_fscore_support(y_test,y_pred)"
   ]
  },
  {
   "cell_type": "code",
   "execution_count": 28,
   "metadata": {
    "collapsed": false
   },
   "outputs": [
    {
     "data": {
      "text/plain": [
       "array([  1.99893414e-02,   3.68968148e-02,   2.45049495e-02, ...,\n",
       "         2.00288357e-05,   9.17465041e-05,   0.00000000e+00])"
      ]
     },
     "execution_count": 28,
     "metadata": {},
     "output_type": "execute_result"
    }
   ],
   "source": [
    "clf.feature_importances_"
   ]
  },
  {
   "cell_type": "code",
   "execution_count": 29,
   "metadata": {
    "collapsed": false
   },
   "outputs": [
    {
     "data": {
      "text/plain": [
       "(1030,)"
      ]
     },
     "execution_count": 29,
     "metadata": {},
     "output_type": "execute_result"
    }
   ],
   "source": [
    "clf.feature_importances_.shape"
   ]
  },
  {
   "cell_type": "code",
   "execution_count": 53,
   "metadata": {
    "collapsed": false
   },
   "outputs": [],
   "source": [
    "from sklearn.model_selection import GridSearchCV\n",
    "clf = RandomForestClassifier()\n",
    "param_dict = {'n_estimators':[50,70,100],'max_features':[100,200,300,400,None]}\n",
    "grid_search = GridSearchCV(clf,param_grid=param_dict,verbose=10)"
   ]
  },
  {
   "cell_type": "code",
   "execution_count": 55,
   "metadata": {
    "collapsed": false
   },
   "outputs": [
    {
     "name": "stdout",
     "output_type": "stream",
     "text": [
      "<class 'pandas.core.series.Series'>\n"
     ]
    }
   ],
   "source": [
    "print type(y_train)"
   ]
  },
  {
   "cell_type": "code",
   "execution_count": 56,
   "metadata": {
    "collapsed": false
   },
   "outputs": [
    {
     "name": "stdout",
     "output_type": "stream",
     "text": [
      "Fitting 3 folds for each of 15 candidates, totalling 45 fits\n",
      "[CV] max_features=100, n_estimators=50 ...............................\n",
      "[CV]  max_features=100, n_estimators=50, score=1.000000, total=   2.8s\n",
      "[CV] max_features=100, n_estimators=50 ...............................\n"
     ]
    },
    {
     "name": "stderr",
     "output_type": "stream",
     "text": [
      "[Parallel(n_jobs=1)]: Done   1 out of   1 | elapsed:    3.0s remaining:    0.0s\n"
     ]
    },
    {
     "name": "stdout",
     "output_type": "stream",
     "text": [
      "[CV]  max_features=100, n_estimators=50, score=1.000000, total=   2.6s\n",
      "[CV] max_features=100, n_estimators=50 ...............................\n"
     ]
    },
    {
     "name": "stderr",
     "output_type": "stream",
     "text": [
      "[Parallel(n_jobs=1)]: Done   2 out of   2 | elapsed:    5.8s remaining:    0.0s\n"
     ]
    },
    {
     "name": "stdout",
     "output_type": "stream",
     "text": [
      "[CV]  max_features=100, n_estimators=50, score=1.000000, total=   2.9s\n",
      "[CV] max_features=100, n_estimators=70 ...............................\n"
     ]
    },
    {
     "name": "stderr",
     "output_type": "stream",
     "text": [
      "[Parallel(n_jobs=1)]: Done   3 out of   3 | elapsed:    8.9s remaining:    0.0s\n"
     ]
    },
    {
     "name": "stdout",
     "output_type": "stream",
     "text": [
      "[CV]  max_features=100, n_estimators=70, score=1.000000, total=   3.6s\n",
      "[CV] max_features=100, n_estimators=70 ...............................\n"
     ]
    },
    {
     "name": "stderr",
     "output_type": "stream",
     "text": [
      "[Parallel(n_jobs=1)]: Done   4 out of   4 | elapsed:   12.7s remaining:    0.0s\n"
     ]
    },
    {
     "name": "stdout",
     "output_type": "stream",
     "text": [
      "[CV]  max_features=100, n_estimators=70, score=1.000000, total=   3.6s\n",
      "[CV] max_features=100, n_estimators=70 ...............................\n"
     ]
    },
    {
     "name": "stderr",
     "output_type": "stream",
     "text": [
      "[Parallel(n_jobs=1)]: Done   5 out of   5 | elapsed:   16.5s remaining:    0.0s\n"
     ]
    },
    {
     "name": "stdout",
     "output_type": "stream",
     "text": [
      "[CV]  max_features=100, n_estimators=70, score=1.000000, total=   3.8s\n",
      "[CV] max_features=100, n_estimators=100 ..............................\n"
     ]
    },
    {
     "name": "stderr",
     "output_type": "stream",
     "text": [
      "[Parallel(n_jobs=1)]: Done   6 out of   6 | elapsed:   20.5s remaining:    0.0s\n"
     ]
    },
    {
     "name": "stdout",
     "output_type": "stream",
     "text": [
      "[CV]  max_features=100, n_estimators=100, score=1.000000, total=   5.2s\n",
      "[CV] max_features=100, n_estimators=100 ..............................\n"
     ]
    },
    {
     "name": "stderr",
     "output_type": "stream",
     "text": [
      "[Parallel(n_jobs=1)]: Done   7 out of   7 | elapsed:   26.0s remaining:    0.0s\n"
     ]
    },
    {
     "name": "stdout",
     "output_type": "stream",
     "text": [
      "[CV]  max_features=100, n_estimators=100, score=1.000000, total=   5.3s\n",
      "[CV] max_features=100, n_estimators=100 ..............................\n"
     ]
    },
    {
     "name": "stderr",
     "output_type": "stream",
     "text": [
      "[Parallel(n_jobs=1)]: Done   8 out of   8 | elapsed:   31.6s remaining:    0.0s\n"
     ]
    },
    {
     "name": "stdout",
     "output_type": "stream",
     "text": [
      "[CV]  max_features=100, n_estimators=100, score=1.000000, total=   5.2s\n",
      "[CV] max_features=200, n_estimators=50 ...............................\n"
     ]
    },
    {
     "name": "stderr",
     "output_type": "stream",
     "text": [
      "[Parallel(n_jobs=1)]: Done   9 out of   9 | elapsed:   37.1s remaining:    0.0s\n"
     ]
    },
    {
     "name": "stdout",
     "output_type": "stream",
     "text": [
      "[CV]  max_features=200, n_estimators=50, score=1.000000, total=   3.1s\n",
      "[CV] max_features=200, n_estimators=50 ...............................\n",
      "[CV]  max_features=200, n_estimators=50, score=1.000000, total=   3.1s\n",
      "[CV] max_features=200, n_estimators=50 ...............................\n",
      "[CV]  max_features=200, n_estimators=50, score=1.000000, total=   2.8s\n",
      "[CV] max_features=200, n_estimators=70 ...............................\n",
      "[CV]  max_features=200, n_estimators=70, score=1.000000, total=   3.9s\n",
      "[CV] max_features=200, n_estimators=70 ...............................\n",
      "[CV]  max_features=200, n_estimators=70, score=1.000000, total=   4.1s\n",
      "[CV] max_features=200, n_estimators=70 ...............................\n",
      "[CV]  max_features=200, n_estimators=70, score=1.000000, total=   4.1s\n",
      "[CV] max_features=200, n_estimators=100 ..............................\n",
      "[CV]  max_features=200, n_estimators=100, score=1.000000, total=   5.7s\n",
      "[CV] max_features=200, n_estimators=100 ..............................\n",
      "[CV]  max_features=200, n_estimators=100, score=1.000000, total=   6.3s\n",
      "[CV] max_features=200, n_estimators=100 ..............................\n",
      "[CV]  max_features=200, n_estimators=100, score=1.000000, total=   5.5s\n",
      "[CV] max_features=300, n_estimators=50 ...............................\n",
      "[CV]  max_features=300, n_estimators=50, score=1.000000, total=   3.3s\n",
      "[CV] max_features=300, n_estimators=50 ...............................\n",
      "[CV]  max_features=300, n_estimators=50, score=1.000000, total=   3.2s\n",
      "[CV] max_features=300, n_estimators=50 ...............................\n",
      "[CV]  max_features=300, n_estimators=50, score=1.000000, total=   3.1s\n",
      "[CV] max_features=300, n_estimators=70 ...............................\n",
      "[CV]  max_features=300, n_estimators=70, score=1.000000, total=   4.5s\n",
      "[CV] max_features=300, n_estimators=70 ...............................\n",
      "[CV]  max_features=300, n_estimators=70, score=1.000000, total=   5.0s\n",
      "[CV] max_features=300, n_estimators=70 ...............................\n",
      "[CV]  max_features=300, n_estimators=70, score=1.000000, total=   4.4s\n",
      "[CV] max_features=300, n_estimators=100 ..............................\n",
      "[CV]  max_features=300, n_estimators=100, score=1.000000, total=   6.3s\n",
      "[CV] max_features=300, n_estimators=100 ..............................\n",
      "[CV]  max_features=300, n_estimators=100, score=1.000000, total=   6.5s\n",
      "[CV] max_features=300, n_estimators=100 ..............................\n",
      "[CV]  max_features=300, n_estimators=100, score=1.000000, total=   6.2s\n",
      "[CV] max_features=400, n_estimators=50 ...............................\n",
      "[CV]  max_features=400, n_estimators=50, score=1.000000, total=   3.5s\n",
      "[CV] max_features=400, n_estimators=50 ...............................\n",
      "[CV]  max_features=400, n_estimators=50, score=1.000000, total=   4.0s\n",
      "[CV] max_features=400, n_estimators=50 ...............................\n",
      "[CV]  max_features=400, n_estimators=50, score=1.000000, total=   3.3s\n",
      "[CV] max_features=400, n_estimators=70 ...............................\n",
      "[CV]  max_features=400, n_estimators=70, score=1.000000, total=   4.7s\n",
      "[CV] max_features=400, n_estimators=70 ...............................\n",
      "[CV]  max_features=400, n_estimators=70, score=1.000000, total=   4.6s\n",
      "[CV] max_features=400, n_estimators=70 ...............................\n",
      "[CV]  max_features=400, n_estimators=70, score=1.000000, total=   4.3s\n",
      "[CV] max_features=400, n_estimators=100 ..............................\n",
      "[CV]  max_features=400, n_estimators=100, score=1.000000, total=   6.5s\n",
      "[CV] max_features=400, n_estimators=100 ..............................\n",
      "[CV]  max_features=400, n_estimators=100, score=1.000000, total=   6.7s\n",
      "[CV] max_features=400, n_estimators=100 ..............................\n",
      "[CV]  max_features=400, n_estimators=100, score=1.000000, total=   6.6s\n",
      "[CV] max_features=None, n_estimators=50 ..............................\n",
      "[CV]  max_features=None, n_estimators=50, score=1.000000, total=   5.0s\n",
      "[CV] max_features=None, n_estimators=50 ..............................\n",
      "[CV]  max_features=None, n_estimators=50, score=1.000000, total=   4.9s\n",
      "[CV] max_features=None, n_estimators=50 ..............................\n",
      "[CV]  max_features=None, n_estimators=50, score=1.000000, total=   5.1s\n",
      "[CV] max_features=None, n_estimators=70 ..............................\n",
      "[CV]  max_features=None, n_estimators=70, score=1.000000, total=   6.9s\n",
      "[CV] max_features=None, n_estimators=70 ..............................\n",
      "[CV]  max_features=None, n_estimators=70, score=1.000000, total=   6.9s\n",
      "[CV] max_features=None, n_estimators=70 ..............................\n",
      "[CV]  max_features=None, n_estimators=70, score=1.000000, total=   7.0s\n",
      "[CV] max_features=None, n_estimators=100 .............................\n",
      "[CV]  max_features=None, n_estimators=100, score=1.000000, total=   9.9s\n",
      "[CV] max_features=None, n_estimators=100 .............................\n",
      "[CV]  max_features=None, n_estimators=100, score=1.000000, total=   9.8s\n",
      "[CV] max_features=None, n_estimators=100 .............................\n",
      "[CV]  max_features=None, n_estimators=100, score=1.000000, total=   9.9s\n"
     ]
    },
    {
     "name": "stderr",
     "output_type": "stream",
     "text": [
      "[Parallel(n_jobs=1)]: Done  45 out of  45 | elapsed:  3.9min finished\n"
     ]
    },
    {
     "data": {
      "text/plain": [
       "GridSearchCV(cv=None, error_score='raise',\n",
       "       estimator=RandomForestClassifier(bootstrap=True, class_weight=None, criterion='gini',\n",
       "            max_depth=None, max_features='auto', max_leaf_nodes=None,\n",
       "            min_impurity_split=1e-07, min_samples_leaf=1,\n",
       "            min_samples_split=2, min_weight_fraction_leaf=0.0,\n",
       "            n_estimators=10, n_jobs=1, oob_score=False, random_state=None,\n",
       "            verbose=0, warm_start=False),\n",
       "       fit_params={}, iid=True, n_jobs=1,\n",
       "       param_grid={'n_estimators': [50, 70, 100], 'max_features': [100, 200, 300, 400, None]},\n",
       "       pre_dispatch='2*n_jobs', refit=True, return_train_score=True,\n",
       "       scoring=None, verbose=10)"
      ]
     },
     "execution_count": 56,
     "metadata": {},
     "output_type": "execute_result"
    }
   ],
   "source": [
    "grid_search.fit(X_train,y_train)"
   ]
  },
  {
   "cell_type": "code",
   "execution_count": 57,
   "metadata": {
    "collapsed": false
   },
   "outputs": [
    {
     "data": {
      "text/plain": [
       "{'mean_fit_time': array([ 2.67496904,  3.55124354,  5.07188837,  2.89079634,  3.9094704 ,\n",
       "         5.68749539,  3.14730938,  4.53195135,  6.21607478,  3.51615262,\n",
       "         4.43071906,  6.45672623,  4.92255902,  6.81954066,  9.73405496]),\n",
       " 'mean_score_time': array([ 0.10197028,  0.12039677,  0.15961305,  0.08307894,  0.1123383 ,\n",
       "         0.14623165,  0.08293462,  0.10547622,  0.12594692,  0.08511472,\n",
       "         0.10248033,  0.12291805,  0.07815289,  0.09227633,  0.1174794 ]),\n",
       " 'mean_test_score': array([ 1.,  1.,  1.,  1.,  1.,  1.,  1.,  1.,  1.,  1.,  1.,  1.,  1.,\n",
       "         1.,  1.]),\n",
       " 'mean_train_score': array([ 1.,  1.,  1.,  1.,  1.,  1.,  1.,  1.,  1.,  1.,  1.,  1.,  1.,\n",
       "         1.,  1.]),\n",
       " 'param_max_features': masked_array(data = [100 100 100 200 200 200 300 300 300 400 400 400 None None None],\n",
       "              mask = [False False False False False False False False False False False False\n",
       "  False False False],\n",
       "        fill_value = ?),\n",
       " 'param_n_estimators': masked_array(data = [50 70 100 50 70 100 50 70 100 50 70 100 50 70 100],\n",
       "              mask = [False False False False False False False False False False False False\n",
       "  False False False],\n",
       "        fill_value = ?),\n",
       " 'params': ({'max_features': 100, 'n_estimators': 50},\n",
       "  {'max_features': 100, 'n_estimators': 70},\n",
       "  {'max_features': 100, 'n_estimators': 100},\n",
       "  {'max_features': 200, 'n_estimators': 50},\n",
       "  {'max_features': 200, 'n_estimators': 70},\n",
       "  {'max_features': 200, 'n_estimators': 100},\n",
       "  {'max_features': 300, 'n_estimators': 50},\n",
       "  {'max_features': 300, 'n_estimators': 70},\n",
       "  {'max_features': 300, 'n_estimators': 100},\n",
       "  {'max_features': 400, 'n_estimators': 50},\n",
       "  {'max_features': 400, 'n_estimators': 70},\n",
       "  {'max_features': 400, 'n_estimators': 100},\n",
       "  {'max_features': None, 'n_estimators': 50},\n",
       "  {'max_features': None, 'n_estimators': 70},\n",
       "  {'max_features': None, 'n_estimators': 100}),\n",
       " 'rank_test_score': array([1, 1, 1, 1, 1, 1, 1, 1, 1, 1, 1, 1, 1, 1, 1], dtype=int32),\n",
       " 'split0_test_score': array([ 1.,  1.,  1.,  1.,  1.,  1.,  1.,  1.,  1.,  1.,  1.,  1.,  1.,\n",
       "         1.,  1.]),\n",
       " 'split0_train_score': array([ 1.,  1.,  1.,  1.,  1.,  1.,  1.,  1.,  1.,  1.,  1.,  1.,  1.,\n",
       "         1.,  1.]),\n",
       " 'split1_test_score': array([ 1.,  1.,  1.,  1.,  1.,  1.,  1.,  1.,  1.,  1.,  1.,  1.,  1.,\n",
       "         1.,  1.]),\n",
       " 'split1_train_score': array([ 1.,  1.,  1.,  1.,  1.,  1.,  1.,  1.,  1.,  1.,  1.,  1.,  1.,\n",
       "         1.,  1.]),\n",
       " 'split2_test_score': array([ 1.,  1.,  1.,  1.,  1.,  1.,  1.,  1.,  1.,  1.,  1.,  1.,  1.,\n",
       "         1.,  1.]),\n",
       " 'split2_train_score': array([ 1.,  1.,  1.,  1.,  1.,  1.,  1.,  1.,  1.,  1.,  1.,  1.,  1.,\n",
       "         1.,  1.]),\n",
       " 'std_fit_time': array([ 0.10845318,  0.09948082,  0.03163433,  0.12298266,  0.1016847 ,\n",
       "         0.34221428,  0.1001831 ,  0.28338983,  0.14632856,  0.2683473 ,\n",
       "         0.16062077,  0.05958849,  0.0734283 ,  0.05184802,  0.03881859]),\n",
       " 'std_score_time': array([ 0.00716101,  0.01021722,  0.00492107,  0.00175677,  0.01038318,\n",
       "         0.017766  ,  0.00366915,  0.00104044,  0.00259973,  0.00388299,\n",
       "         0.00926959,  0.00375259,  0.00218786,  0.00233845,  0.00083546]),\n",
       " 'std_test_score': array([ 0.,  0.,  0.,  0.,  0.,  0.,  0.,  0.,  0.,  0.,  0.,  0.,  0.,\n",
       "         0.,  0.]),\n",
       " 'std_train_score': array([ 0.,  0.,  0.,  0.,  0.,  0.,  0.,  0.,  0.,  0.,  0.,  0.,  0.,\n",
       "         0.,  0.])}"
      ]
     },
     "execution_count": 57,
     "metadata": {},
     "output_type": "execute_result"
    }
   ],
   "source": [
    "grid_search.cv_results_"
   ]
  },
  {
   "cell_type": "code",
   "execution_count": 59,
   "metadata": {
    "collapsed": false
   },
   "outputs": [],
   "source": [
    "y_pred = grid_search.best_estimator_.predict(X_test)"
   ]
  },
  {
   "cell_type": "code",
   "execution_count": 60,
   "metadata": {
    "collapsed": false
   },
   "outputs": [
    {
     "data": {
      "text/plain": [
       "(array([ 1.,  1.]), array([ 1.,  1.]), array([ 1.,  1.]), array([7752, 1112]))"
      ]
     },
     "execution_count": 60,
     "metadata": {},
     "output_type": "execute_result"
    }
   ],
   "source": [
    "precision_recall_fscore_support(y_test,y_pred)"
   ]
  },
  {
   "cell_type": "code",
   "execution_count": 65,
   "metadata": {
    "collapsed": false
   },
   "outputs": [
    {
     "data": {
      "text/plain": [
       "(2167,)"
      ]
     },
     "execution_count": 65,
     "metadata": {},
     "output_type": "execute_result"
    }
   ],
   "source": [
    "y_train[y_train == 1].shape"
   ]
  },
  {
   "cell_type": "code",
   "execution_count": null,
   "metadata": {
    "collapsed": true
   },
   "outputs": [],
   "source": []
  }
 ],
 "metadata": {
  "kernelspec": {
   "display_name": "Python 2",
   "language": "python",
   "name": "python2"
  },
  "language_info": {
   "codemirror_mode": {
    "name": "ipython",
    "version": 2
   },
   "file_extension": ".py",
   "mimetype": "text/x-python",
   "name": "python",
   "nbconvert_exporter": "python",
   "pygments_lexer": "ipython2",
   "version": "2.7.13"
  }
 },
 "nbformat": 4,
 "nbformat_minor": 0
}
